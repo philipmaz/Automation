{
 "cells": [
  {
   "cell_type": "markdown",
   "metadata": {},
   "source": [
    "# Report Creator\n",
    "\n",
    "modifies original data in form of .csv file exported from the system to an excel format with required column naming which is used for weekly reporting purposes"
   ]
  },
  {
   "cell_type": "code",
   "execution_count": 16,
   "metadata": {},
   "outputs": [
    {
     "name": "stderr",
     "output_type": "stream",
     "text": [
      "C:\\Users\\Filip.Mazurkiewicz\\Anaconda3\\lib\\site-packages\\ipykernel_launcher.py:64: SettingWithCopyWarning: \n",
      "A value is trying to be set on a copy of a slice from a DataFrame.\n",
      "Try using .loc[row_indexer,col_indexer] = value instead\n",
      "\n",
      "See the caveats in the documentation: https://pandas.pydata.org/pandas-docs/stable/user_guide/indexing.html#returning-a-view-versus-a-copy\n"
     ]
    }
   ],
   "source": [
    "import pandas as pd\n",
    "import numpy as np\n",
    "from tkinter import Tk \n",
    "from tkinter.filedialog import askopenfilename, askdirectory\n",
    "import tkinter.messagebox\n",
    "import tkinter, os\n",
    "import re\n",
    "import datetime\n",
    "\n",
    "\n",
    "\n",
    "root=tkinter.Tk()\n",
    "root.withdraw()\n",
    "root.update()\n",
    "sirus_csv = askopenfilename(title='SELECT CSV FILE FROM SIRUS')# show an \"Open\" dialog box and return the path to the selected file\n",
    "#sirus_data = pd.read_csv(sirus_csv,encoding=\"ISO-8859-1\")\n",
    "now = datetime.datetime.now()\n",
    "current_time = now.strftime(\"_%H_%M_%d-%m-%Y\")\n",
    "input_directory=os.path.dirname(sirus_csv)\n",
    "input_file_name=os.path.splitext(os.path.basename(sirus_csv))[0]\n",
    "sirus_data=pd.read_csv(os.path.abspath(sirus_csv))\n",
    "\n",
    "p_date=[]\n",
    "NAM_date=[]\n",
    "\n",
    "\n",
    "sirus_data=sirus_data[(sirus_data['Created by']== 'Aleksandra.Czekaj') | (sirus_data['Created by']== 'Monish.Iyappan')]\n",
    "sirus_data=sirus_data[['Title','Published date','Author','Well','Field','Country','Identifiers','Product type','URL']]\n",
    "sirus_data.rename(columns={\"Well\": \"Asset\", \"Identifiers\": \"Company tag\"},inplace=True)\n",
    "\n",
    "\n",
    "well_is_null=sirus_data['Asset'].isnull()\n",
    "sirus_data.loc[well_is_null,'Asset']=sirus_data['Field']\n",
    "\n",
    "well_is_null=sirus_data['Asset'].isnull()\n",
    "sirus_data.loc[well_is_null,'Asset']=sirus_data['Country']\n",
    "\n",
    "\n",
    "for date in sirus_data['Published date']:\n",
    "    date=datetime.datetime.strptime(date, '%d-%b-%Y').strftime('%Y-%m-%d')\n",
    "    p_date.append(date)\n",
    "\n",
    "sirus_data['Published date']=p_date\n",
    "\n",
    "#EXCEPTIONS\n",
    "data_SUKEP=sirus_data[(sirus_data['Country']== 'United Kingdom')&~(sirus_data['Field']== 'CLIPPER') \n",
    "                   &~(sirus_data['Field']== 'CUTTER') \n",
    "                      &~(sirus_data['Field']== 'GALLEON') \n",
    "                        &~(sirus_data['Field']== 'BARQUE')]\n",
    "\n",
    "#data_SUKEP['Title']=data_SUKEP['Title'].astype(str) + \" \" + data_SUKEP['Published date']\n",
    "\n",
    "data_NAM=sirus_data[(sirus_data['Country']== 'Netherlands') \n",
    "                   | (sirus_data['Field']== 'CLIPPER') \n",
    "                   | (sirus_data['Field']== 'CUTTER') \n",
    "                      | (sirus_data['Field']== 'GALLEON') \n",
    "                        | (sirus_data['Field']== 'BARQUE')]\n",
    "\n",
    "\n",
    "for date in data_NAM['Published date']:\n",
    "    date=datetime.datetime.strptime(date, '%Y-%m-%d').strftime('%d-%m-%Y')\n",
    "    NAM_date.append(date)\n",
    "\n",
    "data_NAM['Published date']=NAM_date\n",
    "#data_NAM['Title']=data_NAM['Title'].astype(str) + \" \" + data_NAM['Published date']\n",
    "\n",
    "data_SUKEP.drop(columns=['Field','Country'],inplace=True)\n",
    "data_NAM.drop(columns=['Field','Country'],inplace=True)\n",
    "\n",
    "\n",
    "#create output file name based on the input file name and time\n",
    "output_file_name_1=input_file_name+'_NAM_'+current_time+'.xlsx'\n",
    "output_file_name_2=input_file_name+'_SUKEP_'+current_time+'.xlsx'\n",
    "#build path to output file\n",
    "output_file_path_1=os.path.join(input_directory,output_file_name_1)\n",
    "output_file_path_2=os.path.join(input_directory,output_file_name_2)\n",
    "#export file to excel from pandas\n",
    "data_NAM.to_excel(output_file_path_1)\n",
    "data_SUKEP.to_excel(output_file_path_2)\n"
   ]
  },
  {
   "cell_type": "code",
   "execution_count": null,
   "metadata": {},
   "outputs": [],
   "source": []
  }
 ],
 "metadata": {
  "kernelspec": {
   "display_name": "Python 3",
   "language": "python",
   "name": "python3"
  },
  "language_info": {
   "codemirror_mode": {
    "name": "ipython",
    "version": 3
   },
   "file_extension": ".py",
   "mimetype": "text/x-python",
   "name": "python",
   "nbconvert_exporter": "python",
   "pygments_lexer": "ipython3",
   "version": "3.7.6"
  }
 },
 "nbformat": 4,
 "nbformat_minor": 2
}
